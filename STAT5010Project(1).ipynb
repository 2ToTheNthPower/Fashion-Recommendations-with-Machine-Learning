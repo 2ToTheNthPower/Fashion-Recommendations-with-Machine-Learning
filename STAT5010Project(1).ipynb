{
 "cells": [
  {
   "cell_type": "markdown",
   "metadata": {
    "id": "8Seieffe0anw"
   },
   "source": [
    "# Defining problem to solve\n",
    "\n",
    "Given a dataset of transactions (customer-product pairs that resulted in purchases), I want to find other customer-product pairs that are likely to be purchased.  More specifically, I'm trying to figure out what customers will be interested in purchasing next week.\n",
    "\n",
    "The dataset in use is provided by Kaggle here (https://www.kaggle.com/competitions/h-and-m-personalized-fashion-recommendations/data).\n",
    "\n",
    "Due to computing power limitations, I have chosen not to use the provided image data in my model, but have instead chosen to use tabular data exclusively."
   ]
  },
  {
   "cell_type": "markdown",
   "metadata": {
    "id": "RU52s9L-0any"
   },
   "source": [
    "# Import libraries"
   ]
  },
  {
   "cell_type": "code",
   "execution_count": null,
   "metadata": {
    "colab": {
     "base_uri": "https://localhost:8080/"
    },
    "id": "NqZJ9-vrbY7m",
    "outputId": "dafdf50e-a556-4cd3-983b-cc9634c450f5"
   },
   "outputs": [
    {
     "name": "stdout",
     "output_type": "stream",
     "text": [
      "Collecting plot_keras_history\n",
      "  Downloading plot_keras_history-1.1.35.tar.gz (8.9 kB)\n",
      "Requirement already satisfied: matplotlib in /usr/local/lib/python3.7/dist-packages (from plot_keras_history) (3.2.2)\n",
      "Requirement already satisfied: pandas in /usr/local/lib/python3.7/dist-packages (from plot_keras_history) (1.3.5)\n",
      "Requirement already satisfied: scipy in /usr/local/lib/python3.7/dist-packages (from plot_keras_history) (1.4.1)\n",
      "Collecting sanitize_ml_labels>=1.0.33\n",
      "  Downloading sanitize_ml_labels-1.0.33.tar.gz (7.6 kB)\n",
      "Collecting compress_json\n",
      "  Downloading compress_json-1.0.5.tar.gz (5.0 kB)\n",
      "Requirement already satisfied: numpy>=1.11 in /usr/local/lib/python3.7/dist-packages (from matplotlib->plot_keras_history) (1.21.6)\n",
      "Requirement already satisfied: pyparsing!=2.0.4,!=2.1.2,!=2.1.6,>=2.0.1 in /usr/local/lib/python3.7/dist-packages (from matplotlib->plot_keras_history) (3.0.8)\n",
      "Requirement already satisfied: python-dateutil>=2.1 in /usr/local/lib/python3.7/dist-packages (from matplotlib->plot_keras_history) (2.8.2)\n",
      "Requirement already satisfied: kiwisolver>=1.0.1 in /usr/local/lib/python3.7/dist-packages (from matplotlib->plot_keras_history) (1.4.2)\n",
      "Requirement already satisfied: cycler>=0.10 in /usr/local/lib/python3.7/dist-packages (from matplotlib->plot_keras_history) (0.11.0)\n",
      "Requirement already satisfied: typing-extensions in /usr/local/lib/python3.7/dist-packages (from kiwisolver>=1.0.1->matplotlib->plot_keras_history) (4.1.1)\n",
      "Requirement already satisfied: six>=1.5 in /usr/local/lib/python3.7/dist-packages (from python-dateutil>=2.1->matplotlib->plot_keras_history) (1.15.0)\n",
      "Requirement already satisfied: pytz>=2017.3 in /usr/local/lib/python3.7/dist-packages (from pandas->plot_keras_history) (2022.1)\n",
      "Building wheels for collected packages: plot-keras-history, sanitize-ml-labels, compress-json\n",
      "  Building wheel for plot-keras-history (setup.py) ... \u001b[?25l\u001b[?25hdone\n",
      "  Created wheel for plot-keras-history: filename=plot_keras_history-1.1.35-py3-none-any.whl size=9091 sha256=4dece0ba3f1c42487a0ea5f26a4347e617f5e25e5354bb4054acd8c8446368bf\n",
      "  Stored in directory: /root/.cache/pip/wheels/40/92/fd/d7d02562f5312ec89748f7ca7e16d1f1cac44719a551242bf2\n",
      "  Building wheel for sanitize-ml-labels (setup.py) ... \u001b[?25l\u001b[?25hdone\n",
      "  Created wheel for sanitize-ml-labels: filename=sanitize_ml_labels-1.0.33-py3-none-any.whl size=8285 sha256=9efdf8c9e6fbc58a4ccc67b84e56ef784bb4efe0d9df0f2fd78ddbc0fb4967e9\n",
      "  Stored in directory: /root/.cache/pip/wheels/66/ab/57/d00b27746f59b194d2b311d076da744dd3fc1f6ceb8574e9ae\n",
      "  Building wheel for compress-json (setup.py) ... \u001b[?25l\u001b[?25hdone\n",
      "  Created wheel for compress-json: filename=compress_json-1.0.5-py3-none-any.whl size=4899 sha256=359fb099afe999ac42839318b7d43f3f5f818e97340575833534843b759c696d\n",
      "  Stored in directory: /root/.cache/pip/wheels/9d/c9/7d/7840b772f45f7870c08cb0df4eefa994af4208bbc046856b41\n",
      "Successfully built plot-keras-history sanitize-ml-labels compress-json\n",
      "Installing collected packages: compress-json, sanitize-ml-labels, plot-keras-history\n",
      "Successfully installed compress-json-1.0.5 plot-keras-history-1.1.35 sanitize-ml-labels-1.0.33\n",
      "Mounted at /content/drive\n"
     ]
    }
   ],
   "source": [
    "!pip install plot_keras_history\n",
    "from plot_keras_history import plot_history\n",
    "import matplotlib.pyplot as plt\n",
    "\n",
    "from datetime import datetime\n",
    "from scipy import stats\n",
    "import numpy as np\n",
    "import pandas as pd\n",
    "import keras\n",
    "import numpy as np\n",
    "import pandas as pd\n",
    "import os\n",
    "import random\n",
    "import tensorflow as tf\n",
    "import json\n",
    "import numexpr as ne\n",
    "from math import sqrt\n",
    "import time\n",
    "\n",
    "from keras.layers import Input, Dense, MultiHeadAttention, LayerNormalization, Add, Embedding, Dropout, Flatten, LocallyConnected1D, BatchNormalization, Dot, Reshape, Concatenate\n",
    "from keras.models import Model, load_model, Sequential\n",
    "from keras.callbacks import ModelCheckpoint\n",
    "\n",
    "import os\n",
    "from sklearn import preprocessing\n",
    "\n",
    "from google.colab import drive\n",
    "drive.mount('/content/drive')\n",
    "\n",
    "# Extracts transactions file from google drive.  Without this extraction, \n",
    "# for some reason gDrive clips the .csv file so that I lose transactions data.\n",
    "\n",
    "from zipfile import ZipFile \n",
    "file = \"drive/MyDrive/transactions_train.csv.zip\"\n",
    "with ZipFile(file, 'r') as zip: \n",
    "    zip.extractall() "
   ]
  },
  {
   "cell_type": "code",
   "execution_count": null,
   "metadata": {
    "id": "DGfpi5KMQF8A"
   },
   "outputs": [],
   "source": [
    "# Number of most popular products to make predictions from.\n",
    "pred_len = 10000"
   ]
  },
  {
   "cell_type": "markdown",
   "metadata": {
    "id": "r05LX4WZ0an0"
   },
   "source": [
    "# Reading in data"
   ]
  },
  {
   "cell_type": "code",
   "execution_count": 69,
   "metadata": {
    "id": "RaVJvNMTbY7o"
   },
   "outputs": [],
   "source": [
    "# Read data into pandas dataframes\n",
    "transactions = pd.read_csv(\"transactions_train.csv\")\n",
    "articles = pd.read_csv(\"drive/MyDrive/articles.csv\")\n",
    "customers = pd.read_csv(\"drive/MyDrive/customers.csv\")"
   ]
  },
  {
   "cell_type": "markdown",
   "metadata": {
    "id": "WxOGLRKN0an1"
   },
   "source": [
    "# Performing basic data summarization and preparation"
   ]
  },
  {
   "cell_type": "code",
   "execution_count": 70,
   "metadata": {
    "colab": {
     "base_uri": "https://localhost:8080/"
    },
    "id": "llZJqtGWkPIE",
    "outputId": "6d5ae3f9-ee30-47cc-f10f-2db04cd2df7d"
   },
   "outputs": [
    {
     "data": {
      "text/plain": [
       "article_id                      105542\n",
       "product_code                     47224\n",
       "prod_name                        45875\n",
       "product_type_no                    132\n",
       "product_type_name                  131\n",
       "product_group_name                  19\n",
       "graphical_appearance_no             30\n",
       "graphical_appearance_name           30\n",
       "colour_group_code                   50\n",
       "colour_group_name                   50\n",
       "perceived_colour_value_id            8\n",
       "perceived_colour_value_name          8\n",
       "perceived_colour_master_id          20\n",
       "perceived_colour_master_name        20\n",
       "department_no                      299\n",
       "department_name                    250\n",
       "index_code                          10\n",
       "index_name                          10\n",
       "index_group_no                       5\n",
       "index_group_name                     5\n",
       "section_no                          57\n",
       "section_name                        56\n",
       "garment_group_no                    21\n",
       "garment_group_name                  21\n",
       "detail_desc                      43404\n",
       "dtype: int64"
      ]
     },
     "execution_count": 70,
     "metadata": {},
     "output_type": "execute_result"
    }
   ],
   "source": [
    "articles.nunique()"
   ]
  },
  {
   "cell_type": "code",
   "execution_count": 71,
   "metadata": {
    "colab": {
     "base_uri": "https://localhost:8080/"
    },
    "id": "l2WvdzMhv-dE",
    "outputId": "ab36d62a-6c48-44bf-f5bb-12ecab39f4bf"
   },
   "outputs": [
    {
     "data": {
      "text/plain": [
       "customer_id               1371980\n",
       "FN                              1\n",
       "Active                          1\n",
       "club_member_status              3\n",
       "fashion_news_frequency          4\n",
       "age                            84\n",
       "postal_code                352899\n",
       "dtype: int64"
      ]
     },
     "execution_count": 71,
     "metadata": {},
     "output_type": "execute_result"
    }
   ],
   "source": [
    "customers.nunique()"
   ]
  },
  {
   "cell_type": "code",
   "execution_count": 72,
   "metadata": {
    "colab": {
     "base_uri": "https://localhost:8080/",
     "height": 206
    },
    "id": "RuJmylwIkn4t",
    "outputId": "4841dfb2-ab24-49c8-8077-604318091d86"
   },
   "outputs": [
    {
     "data": {
      "text/html": [
       "\n",
       "  <div id=\"df-6ba85c1f-9d7f-4681-893c-98cb50706311\">\n",
       "    <div class=\"colab-df-container\">\n",
       "      <div>\n",
       "<style scoped>\n",
       "    .dataframe tbody tr th:only-of-type {\n",
       "        vertical-align: middle;\n",
       "    }\n",
       "\n",
       "    .dataframe tbody tr th {\n",
       "        vertical-align: top;\n",
       "    }\n",
       "\n",
       "    .dataframe thead th {\n",
       "        text-align: right;\n",
       "    }\n",
       "</style>\n",
       "<table border=\"1\" class=\"dataframe\">\n",
       "  <thead>\n",
       "    <tr style=\"text-align: right;\">\n",
       "      <th></th>\n",
       "      <th>t_dat</th>\n",
       "      <th>customer_id</th>\n",
       "      <th>article_id</th>\n",
       "      <th>price</th>\n",
       "      <th>sales_channel_id</th>\n",
       "    </tr>\n",
       "  </thead>\n",
       "  <tbody>\n",
       "    <tr>\n",
       "      <th>0</th>\n",
       "      <td>2018-09-20</td>\n",
       "      <td>000058a12d5b43e67d225668fa1f8d618c13dc232df0ca...</td>\n",
       "      <td>663713001</td>\n",
       "      <td>0.050831</td>\n",
       "      <td>2</td>\n",
       "    </tr>\n",
       "    <tr>\n",
       "      <th>1</th>\n",
       "      <td>2018-09-20</td>\n",
       "      <td>000058a12d5b43e67d225668fa1f8d618c13dc232df0ca...</td>\n",
       "      <td>541518023</td>\n",
       "      <td>0.030492</td>\n",
       "      <td>2</td>\n",
       "    </tr>\n",
       "    <tr>\n",
       "      <th>2</th>\n",
       "      <td>2018-09-20</td>\n",
       "      <td>00007d2de826758b65a93dd24ce629ed66842531df6699...</td>\n",
       "      <td>505221004</td>\n",
       "      <td>0.015237</td>\n",
       "      <td>2</td>\n",
       "    </tr>\n",
       "    <tr>\n",
       "      <th>3</th>\n",
       "      <td>2018-09-20</td>\n",
       "      <td>00007d2de826758b65a93dd24ce629ed66842531df6699...</td>\n",
       "      <td>685687003</td>\n",
       "      <td>0.016932</td>\n",
       "      <td>2</td>\n",
       "    </tr>\n",
       "    <tr>\n",
       "      <th>4</th>\n",
       "      <td>2018-09-20</td>\n",
       "      <td>00007d2de826758b65a93dd24ce629ed66842531df6699...</td>\n",
       "      <td>685687004</td>\n",
       "      <td>0.016932</td>\n",
       "      <td>2</td>\n",
       "    </tr>\n",
       "  </tbody>\n",
       "</table>\n",
       "</div>\n",
       "      <button class=\"colab-df-convert\" onclick=\"convertToInteractive('df-6ba85c1f-9d7f-4681-893c-98cb50706311')\"\n",
       "              title=\"Convert this dataframe to an interactive table.\"\n",
       "              style=\"display:none;\">\n",
       "        \n",
       "  <svg xmlns=\"http://www.w3.org/2000/svg\" height=\"24px\"viewBox=\"0 0 24 24\"\n",
       "       width=\"24px\">\n",
       "    <path d=\"M0 0h24v24H0V0z\" fill=\"none\"/>\n",
       "    <path d=\"M18.56 5.44l.94 2.06.94-2.06 2.06-.94-2.06-.94-.94-2.06-.94 2.06-2.06.94zm-11 1L8.5 8.5l.94-2.06 2.06-.94-2.06-.94L8.5 2.5l-.94 2.06-2.06.94zm10 10l.94 2.06.94-2.06 2.06-.94-2.06-.94-.94-2.06-.94 2.06-2.06.94z\"/><path d=\"M17.41 7.96l-1.37-1.37c-.4-.4-.92-.59-1.43-.59-.52 0-1.04.2-1.43.59L10.3 9.45l-7.72 7.72c-.78.78-.78 2.05 0 2.83L4 21.41c.39.39.9.59 1.41.59.51 0 1.02-.2 1.41-.59l7.78-7.78 2.81-2.81c.8-.78.8-2.07 0-2.86zM5.41 20L4 18.59l7.72-7.72 1.47 1.35L5.41 20z\"/>\n",
       "  </svg>\n",
       "      </button>\n",
       "      \n",
       "  <style>\n",
       "    .colab-df-container {\n",
       "      display:flex;\n",
       "      flex-wrap:wrap;\n",
       "      gap: 12px;\n",
       "    }\n",
       "\n",
       "    .colab-df-convert {\n",
       "      background-color: #E8F0FE;\n",
       "      border: none;\n",
       "      border-radius: 50%;\n",
       "      cursor: pointer;\n",
       "      display: none;\n",
       "      fill: #1967D2;\n",
       "      height: 32px;\n",
       "      padding: 0 0 0 0;\n",
       "      width: 32px;\n",
       "    }\n",
       "\n",
       "    .colab-df-convert:hover {\n",
       "      background-color: #E2EBFA;\n",
       "      box-shadow: 0px 1px 2px rgba(60, 64, 67, 0.3), 0px 1px 3px 1px rgba(60, 64, 67, 0.15);\n",
       "      fill: #174EA6;\n",
       "    }\n",
       "\n",
       "    [theme=dark] .colab-df-convert {\n",
       "      background-color: #3B4455;\n",
       "      fill: #D2E3FC;\n",
       "    }\n",
       "\n",
       "    [theme=dark] .colab-df-convert:hover {\n",
       "      background-color: #434B5C;\n",
       "      box-shadow: 0px 1px 3px 1px rgba(0, 0, 0, 0.15);\n",
       "      filter: drop-shadow(0px 1px 2px rgba(0, 0, 0, 0.3));\n",
       "      fill: #FFFFFF;\n",
       "    }\n",
       "  </style>\n",
       "\n",
       "      <script>\n",
       "        const buttonEl =\n",
       "          document.querySelector('#df-6ba85c1f-9d7f-4681-893c-98cb50706311 button.colab-df-convert');\n",
       "        buttonEl.style.display =\n",
       "          google.colab.kernel.accessAllowed ? 'block' : 'none';\n",
       "\n",
       "        async function convertToInteractive(key) {\n",
       "          const element = document.querySelector('#df-6ba85c1f-9d7f-4681-893c-98cb50706311');\n",
       "          const dataTable =\n",
       "            await google.colab.kernel.invokeFunction('convertToInteractive',\n",
       "                                                     [key], {});\n",
       "          if (!dataTable) return;\n",
       "\n",
       "          const docLinkHtml = 'Like what you see? Visit the ' +\n",
       "            '<a target=\"_blank\" href=https://colab.research.google.com/notebooks/data_table.ipynb>data table notebook</a>'\n",
       "            + ' to learn more about interactive tables.';\n",
       "          element.innerHTML = '';\n",
       "          dataTable['output_type'] = 'display_data';\n",
       "          await google.colab.output.renderOutput(dataTable, element);\n",
       "          const docLink = document.createElement('div');\n",
       "          docLink.innerHTML = docLinkHtml;\n",
       "          element.appendChild(docLink);\n",
       "        }\n",
       "      </script>\n",
       "    </div>\n",
       "  </div>\n",
       "  "
      ],
      "text/plain": [
       "        t_dat                                        customer_id  article_id  \\\n",
       "0  2018-09-20  000058a12d5b43e67d225668fa1f8d618c13dc232df0ca...   663713001   \n",
       "1  2018-09-20  000058a12d5b43e67d225668fa1f8d618c13dc232df0ca...   541518023   \n",
       "2  2018-09-20  00007d2de826758b65a93dd24ce629ed66842531df6699...   505221004   \n",
       "3  2018-09-20  00007d2de826758b65a93dd24ce629ed66842531df6699...   685687003   \n",
       "4  2018-09-20  00007d2de826758b65a93dd24ce629ed66842531df6699...   685687004   \n",
       "\n",
       "      price  sales_channel_id  \n",
       "0  0.050831                 2  \n",
       "1  0.030492                 2  \n",
       "2  0.015237                 2  \n",
       "3  0.016932                 2  \n",
       "4  0.016932                 2  "
      ]
     },
     "execution_count": 72,
     "metadata": {},
     "output_type": "execute_result"
    }
   ],
   "source": [
    "# View basic structure of transactions data\n",
    "transactions.head()"
   ]
  },
  {
   "cell_type": "code",
   "execution_count": 73,
   "metadata": {
    "colab": {
     "base_uri": "https://localhost:8080/"
    },
    "id": "mMasH4v3k2pA",
    "outputId": "f7835602-7832-48d5-bb92-cb27e850dc68"
   },
   "outputs": [
    {
     "name": "stdout",
     "output_type": "stream",
     "text": [
      "1371980\n"
     ]
    }
   ],
   "source": [
    "encoders = {}\n",
    "\n",
    "cust_encoder = preprocessing.LabelEncoder()\n",
    "        \n",
    "cust_encoder = cust_encoder.fit(customers[\"customer_id\"].values)\n",
    "\n",
    "print(len(cust_encoder.classes_))\n",
    "\n",
    "encoders[\"customer_id\"] = cust_encoder\n",
    "\n",
    "transactions[\"customer_id\"] = cust_encoder.transform(transactions[\"customer_id\"].values)\n",
    "customers[\"customer_id\"] = cust_encoder.transform(customers[\"customer_id\"].values)"
   ]
  },
  {
   "cell_type": "code",
   "execution_count": 74,
   "metadata": {
    "id": "vCA8X6O0lR0m"
   },
   "outputs": [],
   "source": [
    "counts_dict = transactions[\"article_id\"].value_counts().nlargest(n=pred_len).to_dict()\n",
    "trans_subset = transactions[transactions[\"article_id\"].isin(counts_dict.keys())]"
   ]
  },
  {
   "cell_type": "code",
   "execution_count": 75,
   "metadata": {
    "id": "JatstcFnwvLF"
   },
   "outputs": [],
   "source": [
    "articles_subset = articles[[\"article_id\", \"product_type_name\", \n",
    "                            \"graphical_appearance_name\", \"colour_group_name\", \n",
    "                            \"perceived_colour_value_name\", \n",
    "                            \"perceived_colour_master_name\", \"department_name\", \n",
    "                            \"index_name\", \"index_group_name\", \"section_name\", \n",
    "                            \"garment_group_name\"]]"
   ]
  },
  {
   "cell_type": "code",
   "execution_count": 76,
   "metadata": {
    "id": "oDCb4KxJna6V"
   },
   "outputs": [],
   "source": [
    "trans_subset.shape\n",
    "transactions = pd.merge(articles_subset, trans_subset, on=['article_id'], how=\"right\")\n",
    "transactions = pd.merge(transactions, customers[[\"customer_id\", \"age\", \"postal_code\"]], on=[\"customer_id\"], how=\"left\")"
   ]
  },
  {
   "cell_type": "code",
   "execution_count": 77,
   "metadata": {
    "colab": {
     "base_uri": "https://localhost:8080/"
    },
    "id": "g8XUQ75N8DNc",
    "outputId": "7e95e438-e759-418d-c931-4e4f720e5485"
   },
   "outputs": [
    {
     "data": {
      "text/plain": [
       "article_id                        int64\n",
       "product_type_name                object\n",
       "graphical_appearance_name        object\n",
       "colour_group_name                object\n",
       "perceived_colour_value_name      object\n",
       "perceived_colour_master_name     object\n",
       "department_name                  object\n",
       "index_name                       object\n",
       "index_group_name                 object\n",
       "section_name                     object\n",
       "garment_group_name               object\n",
       "t_dat                            object\n",
       "customer_id                       int64\n",
       "price                           float64\n",
       "sales_channel_id                  int64\n",
       "age                             float64\n",
       "postal_code                      object\n",
       "dtype: object"
      ]
     },
     "execution_count": 77,
     "metadata": {},
     "output_type": "execute_result"
    }
   ],
   "source": [
    "transactions.dtypes"
   ]
  },
  {
   "cell_type": "code",
   "execution_count": 78,
   "metadata": {
    "id": "n3kMeygd8mZx"
   },
   "outputs": [],
   "source": [
    "transactions['t_dat'] =  pd.to_datetime(transactions['t_dat'])"
   ]
  },
  {
   "cell_type": "code",
   "execution_count": 79,
   "metadata": {
    "id": "UvikMpzhbY7p"
   },
   "outputs": [],
   "source": [
    "# Get number of unique values in each column for all of our data.\n",
    "# This will be helpful later.\n",
    "\n",
    "t_count = transactions.nunique()\n",
    "transactions.shape\n",
    "\n",
    "c_count = customers.nunique()\n",
    "customers.shape\n",
    "\n",
    "a_count = articles.nunique()"
   ]
  },
  {
   "cell_type": "code",
   "execution_count": 80,
   "metadata": {
    "colab": {
     "base_uri": "https://localhost:8080/"
    },
    "id": "qOtxwUbBT3aF",
    "outputId": "062c3a7b-e3f0-417f-cdb1-88e7356bfdbc"
   },
   "outputs": [
    {
     "data": {
      "text/plain": [
       "article_id                        10000\n",
       "product_type_name                    82\n",
       "graphical_appearance_name            28\n",
       "colour_group_name                    49\n",
       "perceived_colour_value_name           8\n",
       "perceived_colour_master_name         18\n",
       "department_name                     119\n",
       "index_name                            8\n",
       "index_group_name                      5\n",
       "section_name                         39\n",
       "garment_group_name                   19\n",
       "t_dat                               734\n",
       "customer_id                     1217586\n",
       "price                              6633\n",
       "sales_channel_id                      2\n",
       "age                                  84\n",
       "postal_code                      341486\n",
       "dtype: int64"
      ]
     },
     "execution_count": 80,
     "metadata": {},
     "output_type": "execute_result"
    }
   ],
   "source": [
    "t_count"
   ]
  },
  {
   "cell_type": "code",
   "execution_count": 81,
   "metadata": {
    "colab": {
     "base_uri": "https://localhost:8080/"
    },
    "id": "5wSs8k4kbY7q",
    "outputId": "70ee2092-ed60-44d3-9f29-9ec92091ea61"
   },
   "outputs": [
    {
     "data": {
      "text/plain": [
       "customer_id               1371980\n",
       "FN                              1\n",
       "Active                          1\n",
       "club_member_status              3\n",
       "fashion_news_frequency          4\n",
       "age                            84\n",
       "postal_code                352899\n",
       "dtype: int64"
      ]
     },
     "execution_count": 81,
     "metadata": {},
     "output_type": "execute_result"
    }
   ],
   "source": [
    "c_count"
   ]
  },
  {
   "cell_type": "code",
   "execution_count": 82,
   "metadata": {
    "colab": {
     "base_uri": "https://localhost:8080/"
    },
    "id": "6VJeCX_kziQW",
    "outputId": "c3253fad-93cc-45b7-f7ff-c459ea6d6f81"
   },
   "outputs": [
    {
     "data": {
      "text/plain": [
       "article_id                      105542\n",
       "product_code                     47224\n",
       "prod_name                        45875\n",
       "product_type_no                    132\n",
       "product_type_name                  131\n",
       "product_group_name                  19\n",
       "graphical_appearance_no             30\n",
       "graphical_appearance_name           30\n",
       "colour_group_code                   50\n",
       "colour_group_name                   50\n",
       "perceived_colour_value_id            8\n",
       "perceived_colour_value_name          8\n",
       "perceived_colour_master_id          20\n",
       "perceived_colour_master_name        20\n",
       "department_no                      299\n",
       "department_name                    250\n",
       "index_code                          10\n",
       "index_name                          10\n",
       "index_group_no                       5\n",
       "index_group_name                     5\n",
       "section_no                          57\n",
       "section_name                        56\n",
       "garment_group_no                    21\n",
       "garment_group_name                  21\n",
       "detail_desc                      43404\n",
       "dtype: int64"
      ]
     },
     "execution_count": 82,
     "metadata": {},
     "output_type": "execute_result"
    }
   ],
   "source": [
    "a_count"
   ]
  },
  {
   "cell_type": "markdown",
   "metadata": {
    "id": "XZwp7BIv0an7"
   },
   "source": [
    "# Create LabelEncoders for each categorical column of interest\n",
    "\n",
    "A label encoder will convert a categorical string to a number, which I can then feed into the Embedding layers in my transformer-based model severals cells down."
   ]
  },
  {
   "cell_type": "code",
   "execution_count": 83,
   "metadata": {
    "colab": {
     "base_uri": "https://localhost:8080/"
    },
    "id": "EFrTJhgkbY7r",
    "outputId": "d0271b42-1235-4dc4-9b89-1d11e6f28bf7"
   },
   "outputs": [
    {
     "name": "stdout",
     "output_type": "stream",
     "text": [
      "article_id\n",
      "product_type_name\n",
      "graphical_appearance_name\n",
      "colour_group_name\n",
      "perceived_colour_value_name\n",
      "perceived_colour_master_name\n",
      "department_name\n",
      "index_name\n",
      "index_group_name\n",
      "section_name\n",
      "garment_group_name\n",
      "sales_channel_id\n"
     ]
    }
   ],
   "source": [
    "for column in transactions.columns:\n",
    "    \n",
    "    if column not in [\"age\", \"price\", \"customer_id\", \"postal_code\", \"t_dat\"]:\n",
    "        print(column)\n",
    "\n",
    "        le = preprocessing.LabelEncoder()\n",
    "        le = le.fit(transactions[column].values)\n",
    "\n",
    "        transactions[column] = le.transform(transactions[column].values)\n",
    "        \n",
    "        encoders[column] = le\n",
    "\n",
    "\n",
    "\n",
    "le = preprocessing.LabelEncoder()\n",
    "le = le.fit(customers[\"postal_code\"].values)\n",
    "\n",
    "transactions[\"postal_code\"] = le.transform(transactions[\"postal_code\"].values)\n",
    "encoders[\"postal_code\"] = le\n",
    "\n",
    "customers[\"postal_code\"] = encoders[\"postal_code\"].transform(customers[\"postal_code\"].values)"
   ]
  },
  {
   "cell_type": "code",
   "execution_count": 84,
   "metadata": {
    "colab": {
     "base_uri": "https://localhost:8080/"
    },
    "id": "wI08pivWeZuv",
    "outputId": "b8dcac11-de8f-489e-fe71-407b9cc3724e"
   },
   "outputs": [
    {
     "name": "stderr",
     "output_type": "stream",
     "text": [
      "/usr/local/lib/python3.7/dist-packages/ipykernel_launcher.py:5: SettingWithCopyWarning: \n",
      "A value is trying to be set on a copy of a slice from a DataFrame.\n",
      "Try using .loc[row_indexer,col_indexer] = value instead\n",
      "\n",
      "See the caveats in the documentation: https://pandas.pydata.org/pandas-docs/stable/user_guide/indexing.html#returning-a-view-versus-a-copy\n",
      "  \"\"\"\n"
     ]
    }
   ],
   "source": [
    "# Drop all but the 10000 most popular products from our dataset and label encode what's left.\n",
    "\n",
    "articles = articles[articles[\"article_id\"].isin(counts_dict.keys())]\n",
    "\n",
    "articles[\"article_id\"] = encoders[\"article_id\"].transform(articles[\"article_id\"].values)\n",
    "\n",
    "articles.set_index(\"article_id\", inplace=True)"
   ]
  },
  {
   "cell_type": "code",
   "execution_count": 85,
   "metadata": {
    "colab": {
     "base_uri": "https://localhost:8080/"
    },
    "id": "iM631Q2NV9f7",
    "outputId": "7159635a-f0c3-4700-c55f-e104274f01bc"
   },
   "outputs": [
    {
     "data": {
      "text/plain": [
       "1371980"
      ]
     },
     "execution_count": 85,
     "metadata": {},
     "output_type": "execute_result"
    }
   ],
   "source": [
    "# Print the total number of customers that we need to make predictions for\n",
    "len(cust_encoder.classes_)"
   ]
  },
  {
   "cell_type": "code",
   "execution_count": 86,
   "metadata": {
    "id": "i-5oJsth2CTp"
   },
   "outputs": [],
   "source": [
    "# Find the most common product sold in case we need it later\n",
    "most_common = transactions[\"article_id\"].value_counts().nlargest(1).index[0]"
   ]
  },
  {
   "cell_type": "markdown",
   "metadata": {
    "id": "RDhvkUkh0an8"
   },
   "source": [
    "# Defining model architecture for transformer-based network\n",
    "\n",
    "This model is based loosely on the encoder half of the transformer network found in \"Attention is All You Need\" (https://arxiv.org/pdf/1706.03762.pdf).\n",
    "\n",
    "The biggest difference between this model and their model is that I don't add positional embeddings to each article embedding."
   ]
  },
  {
   "cell_type": "code",
   "execution_count": null,
   "metadata": {
    "colab": {
     "base_uri": "https://localhost:8080/"
    },
    "id": "6_MBYTUqbY7t",
    "outputId": "72448bff-8b12-4f63-9f5c-fd5c2209c63b"
   },
   "outputs": [
    {
     "name": "stdout",
     "output_type": "stream",
     "text": [
      "Model: \"model\"\n",
      "__________________________________________________________________________________________________\n",
      " Layer (type)                   Output Shape         Param #     Connected to                     \n",
      "==================================================================================================\n",
      " input_1 (InputLayer)           [(None, 16)]         0           []                               \n",
      "                                                                                                  \n",
      " input_2 (InputLayer)           [(None, 16)]         0           []                               \n",
      "                                                                                                  \n",
      " input_3 (InputLayer)           [(None, 16)]         0           []                               \n",
      "                                                                                                  \n",
      " input_4 (InputLayer)           [(None, 16)]         0           []                               \n",
      "                                                                                                  \n",
      " input_5 (InputLayer)           [(None, 16)]         0           []                               \n",
      "                                                                                                  \n",
      " input_6 (InputLayer)           [(None, 16)]         0           []                               \n",
      "                                                                                                  \n",
      " embedding (Embedding)          (None, 16, 100)      1000000     ['input_1[0][0]']                \n",
      "                                                                                                  \n",
      " embedding_1 (Embedding)        (None, 16, 11)       1441        ['input_2[0][0]']                \n",
      "                                                                                                  \n",
      " embedding_2 (Embedding)        (None, 16, 5)        150         ['input_3[0][0]']                \n",
      "                                                                                                  \n",
      " embedding_3 (Embedding)        (None, 16, 7)        350         ['input_4[0][0]']                \n",
      "                                                                                                  \n",
      " embedding_4 (Embedding)        (None, 16, 16)       4000        ['input_5[0][0]']                \n",
      "                                                                                                  \n",
      " reshape (Reshape)              (None, 16, 1)        0           ['input_6[0][0]']                \n",
      "                                                                                                  \n",
      " concatenate (Concatenate)      (None, 16, 140)      0           ['embedding[0][0]',              \n",
      "                                                                  'embedding_1[0][0]',            \n",
      "                                                                  'embedding_2[0][0]',            \n",
      "                                                                  'embedding_3[0][0]',            \n",
      "                                                                  'embedding_4[0][0]',            \n",
      "                                                                  'reshape[0][0]']                \n",
      "                                                                                                  \n",
      " multi_head_attention (MultiHea  (None, 16, 140)     630700      ['concatenate[0][0]',            \n",
      " dAttention)                                                      'concatenate[0][0]']            \n",
      "                                                                                                  \n",
      " dropout (Dropout)              (None, 16, 140)      0           ['multi_head_attention[0][0]']   \n",
      "                                                                                                  \n",
      " tf.__operators__.add (TFOpLamb  (None, 16, 140)     0           ['concatenate[0][0]',            \n",
      " da)                                                              'dropout[0][0]']                \n",
      "                                                                                                  \n",
      " layer_normalization (LayerNorm  (None, 16, 140)     280         ['tf.__operators__.add[0][0]']   \n",
      " alization)                                                                                       \n",
      "                                                                                                  \n",
      " dense (Dense)                  (None, 16, 1024)     144384      ['layer_normalization[0][0]']    \n",
      "                                                                                                  \n",
      " dense_1 (Dense)                (None, 16, 1024)     1049600     ['dense[0][0]']                  \n",
      "                                                                                                  \n",
      " batch_normalization (BatchNorm  (None, 16, 1024)    4096        ['dense_1[0][0]']                \n",
      " alization)                                                                                       \n",
      "                                                                                                  \n",
      " input_8 (InputLayer)           [(None, 1)]          0           []                               \n",
      "                                                                                                  \n",
      " dropout_1 (Dropout)            (None, 16, 1024)     0           ['batch_normalization[0][0]']    \n",
      "                                                                                                  \n",
      " embedding_5 (Embedding)        (None, 1, 16)        5646384     ['input_8[0][0]']                \n",
      "                                                                                                  \n",
      " flatten_1 (Flatten)            (None, 16384)        0           ['dropout_1[0][0]']              \n",
      "                                                                                                  \n",
      " input_7 (InputLayer)           [(None, 1)]          0           []                               \n",
      "                                                                                                  \n",
      " flatten (Flatten)              (None, 16)           0           ['embedding_5[0][0]']            \n",
      "                                                                                                  \n",
      " concatenate_1 (Concatenate)    (None, 16401)        0           ['flatten_1[0][0]',              \n",
      "                                                                  'input_7[0][0]',                \n",
      "                                                                  'flatten[0][0]']                \n",
      "                                                                                                  \n",
      " dense_2 (Dense)                (None, 1024)         16795648    ['concatenate_1[0][0]']          \n",
      "                                                                                                  \n",
      " dense_3 (Dense)                (None, 1024)         1049600     ['dense_2[0][0]']                \n",
      "                                                                                                  \n",
      " dense_4 (Dense)                (None, 1024)         1049600     ['dense_3[0][0]']                \n",
      "                                                                                                  \n",
      " tf.__operators__.add_1 (TFOpLa  (None, 1024)        0           ['dense_2[0][0]',                \n",
      " mbda)                                                            'dense_4[0][0]']                \n",
      "                                                                                                  \n",
      " layer_normalization_1 (LayerNo  (None, 1024)        2048        ['tf.__operators__.add_1[0][0]'] \n",
      " rmalization)                                                                                     \n",
      "                                                                                                  \n",
      " dense_5 (Dense)                (None, 1024)         1049600     ['layer_normalization_1[0][0]']  \n",
      "                                                                                                  \n",
      " dense_6 (Dense)                (None, 1024)         1049600     ['dense_5[0][0]']                \n",
      "                                                                                                  \n",
      " dense_7 (Dense)                (None, 1024)         1049600     ['dense_6[0][0]']                \n",
      "                                                                                                  \n",
      " tf.__operators__.add_2 (TFOpLa  (None, 1024)        0           ['dense_2[0][0]',                \n",
      " mbda)                                                            'dense_7[0][0]']                \n",
      "                                                                                                  \n",
      " layer_normalization_2 (LayerNo  (None, 1024)        2048        ['tf.__operators__.add_2[0][0]'] \n",
      " rmalization)                                                                                     \n",
      "                                                                                                  \n",
      " dense_8 (Dense)                (None, 10001)        10251025    ['layer_normalization_2[0][0]']  \n",
      "                                                                                                  \n",
      "==================================================================================================\n",
      "Total params: 40,780,154\n",
      "Trainable params: 40,778,106\n",
      "Non-trainable params: 2,048\n",
      "__________________________________________________________________________________________________\n"
     ]
    }
   ],
   "source": [
    "embedding_dim = 100\n",
    "\n",
    "customer_id_dim = c_count[\"customer_id\"]\n",
    "article_id_dim = t_count[\"article_id\"]\n",
    "product_type_dim = a_count[\"product_type_name\"]\n",
    "appearance_dim = a_count[\"graphical_appearance_name\"]\n",
    "colour_dim = a_count[\"colour_group_name\"]\n",
    "department_dim = a_count[\"department_name\"]\n",
    "zip_dim = c_count[\"postal_code\"]\n",
    "month_dim = 4\n",
    "\n",
    "max_input_len = 16\n",
    "num_heads = 8\n",
    "ffn_units = 1024\n",
    "dropout_rate = 0.1\n",
    "\n",
    "# Create model architecture (loosely based on Transformer network encoders)\n",
    "\n",
    "article_id_inp = Input(shape=(max_input_len,))\n",
    "product_type_inp = Input(shape=(max_input_len,))\n",
    "appearance_inp = Input(shape=(max_input_len,))\n",
    "colour_inp = Input(shape=(max_input_len,))\n",
    "department_inp = Input(shape=(max_input_len,))\n",
    "\n",
    "\n",
    "price_inp = Input(shape=(max_input_len,))\n",
    "price = Reshape((max_input_len, 1))(price_inp)\n",
    "\n",
    "age_inp = Input(shape=(1,))\n",
    "zip_inp = Input(shape=(1,))\n",
    "\n",
    "article_emb = Embedding(input_dim=article_id_dim, output_dim=round(sqrt(article_id_dim)))(article_id_inp)\n",
    "type_emb = Embedding(input_dim=product_type_dim, output_dim=round(sqrt(product_type_dim)))(product_type_inp)\n",
    "appearance_emb = Embedding(input_dim=appearance_dim, output_dim=round(sqrt(appearance_dim)))(appearance_inp)\n",
    "colour_emb = Embedding(input_dim=colour_dim, output_dim=round(sqrt(colour_dim)))(colour_inp)\n",
    "department_emb = Embedding(input_dim=department_dim, output_dim=round(sqrt(department_dim)))(department_inp)\n",
    "zip_emb = Embedding(input_dim=zip_dim, output_dim=16)(zip_inp)\n",
    "\n",
    "zip = Flatten()(zip_emb)\n",
    "\n",
    "concat = Concatenate()([article_emb, type_emb, appearance_emb, colour_emb, department_emb, price])\n",
    "\n",
    "new_emb_dim = (round(sqrt(article_id_dim)) + round(sqrt(product_type_dim))\n",
    "              + round(sqrt(appearance_dim)) + round(sqrt(colour_dim))\n",
    "              + round(sqrt(department_dim)) + 1)\n",
    "\n",
    "att = MultiHeadAttention(num_heads=num_heads, key_dim=new_emb_dim)(concat, concat)\n",
    "dropout_1 = Dropout(dropout_rate)(att)\n",
    "norm_1 = LayerNormalization()(concat + dropout_1)\n",
    "dense_1 = Dense(ffn_units, activation=\"relu\")(norm_1)\n",
    "dense_2 = Dense(ffn_units, activation=\"relu\")(dense_1)\n",
    "\n",
    "norm_2 = BatchNormalization()(dense_2)\n",
    "\n",
    "dropout_2 = Dropout(dropout_rate)(norm_2)\n",
    "\n",
    "flat_1 = Flatten()(dropout_2)\n",
    "\n",
    "concat_2 = Concatenate()([flat_1, age_inp, zip])\n",
    "\n",
    "dense_3 = Dense(ffn_units, activation=\"relu\")(concat_2)\n",
    "\n",
    "dense_4 = Dense(ffn_units, activation=\"relu\")(dense_3)\n",
    "\n",
    "dense_5 = Dense(ffn_units, activation=\"relu\")(dense_4)\n",
    "\n",
    "norm_2 = LayerNormalization()(dense_3 + dense_5)\n",
    "\n",
    "dense_6 = Dense(ffn_units, activation=\"relu\")(norm_2)\n",
    "\n",
    "dense_7 = Dense(ffn_units, activation=\"relu\")(dense_6)\n",
    "\n",
    "dense_8 = Dense(ffn_units, activation=\"relu\")(dense_7)\n",
    "\n",
    "norm_3 = LayerNormalization()(dense_3 + dense_8)\n",
    "\n",
    "out = Dense(article_id_dim + 1, activation=\"softmax\")(norm_3)\n",
    "\n",
    "model = Model([article_id_inp, product_type_inp, appearance_inp, colour_inp, \n",
    "               department_inp, price_inp, age_inp, zip_inp], out)\n",
    "\n",
    "model.summary()\n",
    "\n",
    "model.compile(loss='sparse_categorical_crossentropy', optimizer='adam', \n",
    "              metrics=[\"sparse_categorical_accuracy\", \"sparse_top_k_categorical_accuracy\"])\n"
   ]
  },
  {
   "cell_type": "markdown",
   "metadata": {
    "id": "XOsnBUj70an9"
   },
   "source": [
    "# Pre-training data processing\n",
    "\n",
    "My basic training strategy is to feed the model the set of products that each customer has purchased, minus one product.  The goal of this model is to guess which product is missing based on the remaining products.  I think that makes this a sequence agnostic model, though I'm not certain."
   ]
  },
  {
   "cell_type": "code",
   "execution_count": null,
   "metadata": {
    "id": "KbpOdQbx7K_L"
   },
   "outputs": [],
   "source": [
    "age_dict = pd.Series(customers.age,index=customers.customer_id).to_dict()\n",
    "zip_dict = pd.Series(customers.postal_code,index=customers.customer_id).to_dict()"
   ]
  },
  {
   "cell_type": "code",
   "execution_count": null,
   "metadata": {
    "id": "WY4l0kAiOk-t"
   },
   "outputs": [],
   "source": [
    "articles_lists = transactions.groupby(['customer_id'])['article_id'].apply(list)\n",
    "type_lists = transactions.groupby(['customer_id'])['product_type_name'].apply(list)\n",
    "appearance_lists = transactions.groupby(['customer_id'])['graphical_appearance_name'].apply(list)\n",
    "colour_lists = transactions.groupby(['customer_id'])['colour_group_name'].apply(list)\n",
    "department_lists = transactions.groupby(['customer_id'])['department_name'].apply(list)\n",
    "price_lists = transactions.groupby(['customer_id'])['price'].apply(list)"
   ]
  },
  {
   "cell_type": "code",
   "execution_count": null,
   "metadata": {
    "colab": {
     "background_save": true
    },
    "id": "WLH16fqSbY7u",
    "outputId": "431e07b0-bd66-434e-ca4f-c0530aaef02e"
   },
   "outputs": [
    {
     "name": "stdout",
     "output_type": "stream",
     "text": [
      "14145560\n"
     ]
    }
   ],
   "source": [
    "art_train = []\n",
    "type_train = []\n",
    "app_train = []\n",
    "colour_train = []\n",
    "dep_train = []\n",
    "price_train = []\n",
    "age_train = []\n",
    "zip_train = []\n",
    "y_train = []\n",
    "custs = []\n",
    "\n",
    "count = 0\n",
    "\n",
    "for cust_num in range(c_count[\"customer_id\"]):\n",
    "  if (cust_num in articles_lists.index):  \n",
    "    count += 1\n",
    "\n",
    "\n",
    "    art_set = articles_lists.loc[cust_num]\n",
    "    type_set = type_lists.loc[cust_num]\n",
    "    app_set = appearance_lists.loc[cust_num]\n",
    "    colour_set = colour_lists.loc[cust_num]\n",
    "    dep_set = department_lists.loc[cust_num]\n",
    "    price_set = price_lists.loc[cust_num]\n",
    "\n",
    "    len_set = set([len(art_set),len(type_set),len(app_set),len(colour_set),len(dep_set),len(price_set)])\n",
    "\n",
    "    age = age_dict[cust_num]\n",
    "    zip = zip_dict[cust_num]\n",
    "    if age is None:\n",
    "      age = 20\n",
    "\n",
    "    if len(art_set) != len(type_set):\n",
    "      print(cust_num)\n",
    "  \n",
    "    for i in range(min(len(art_set), 32)):\n",
    "\n",
    "        cur_idx = i\n",
    "\n",
    "        if len(len_set) == 1:\n",
    "          if list(len_set)[0] <= cur_idx:\n",
    "            print(\"ISSUE AT\", cust_num)\n",
    "\n",
    "        else:\n",
    "          print(\"BOOOOO\")\n",
    "\n",
    "        art_copy = art_set.copy()\n",
    "        type_copy = type_set.copy()\n",
    "        app_copy = app_set.copy()\n",
    "        colour_copy = colour_set.copy()\n",
    "        dep_copy = dep_set.copy()\n",
    "        price_copy = price_set.copy()\n",
    "\n",
    "        if cur_idx >= len(art_copy):\n",
    "          print(\"AAAAAAAGGGHHHHHHH\")\n",
    "\n",
    "        y = [art_copy.pop(cur_idx)]\n",
    "        type_copy.pop(cur_idx)\n",
    "        app_copy.pop(cur_idx)\n",
    "        colour_copy.pop(cur_idx)\n",
    "        dep_copy.pop(cur_idx)\n",
    "        price_copy.pop(cur_idx)\n",
    "\n",
    "        if y[0] == 10000:\n",
    "          y = [most_common]\n",
    "\n",
    "        length = len(art_set)\n",
    "\n",
    "        if len(art_copy) < max_input_len:\n",
    "            art_copy = [article_id_dim]*(max_input_len - len(art_copy)) + list(art_copy)\n",
    "            type_copy = [product_type_dim]*(max_input_len - len(type_copy)) + list(type_copy)\n",
    "            app_copy = [appearance_dim]*(max_input_len - len(app_copy)) + list(app_copy)\n",
    "            colour_copy = [colour_dim]*(max_input_len - len(colour_copy)) + list(colour_copy)\n",
    "            dep_copy = [department_dim]*(max_input_len - len(dep_copy)) + list(dep_copy)\n",
    "            price_copy = [0]*(max_input_len - len(price_copy)) + list(price_copy)\n",
    "\n",
    "        elif len(art_copy) > max_input_len:\n",
    "            idxs = random.sample(range(len(art_copy)), max_input_len)\n",
    "            art_copy = list(map(art_copy.__getitem__, idxs))\n",
    "            type_copy = list(map(type_copy.__getitem__, idxs))\n",
    "            app_copy = list(map(app_copy.__getitem__, idxs))\n",
    "            colour_copy = list(map(colour_copy.__getitem__, idxs))\n",
    "            dep_copy = list(map(dep_copy.__getitem__, idxs))\n",
    "            price_copy = list(map(price_copy.__getitem__, idxs))\n",
    "\n",
    "        art_train.append(art_copy)\n",
    "        type_train.append(type_copy)\n",
    "        app_train.append(app_copy)\n",
    "        colour_train.append(colour_copy)\n",
    "        dep_train.append(dep_copy)\n",
    "        price_train.append(price_copy)\n",
    "\n",
    "        age_train.append([age])\n",
    "        zip_train.append([zip])\n",
    "\n",
    "\n",
    "        if len(art_copy) != max_input_len:\n",
    "          print(len(art_copy))\n",
    "          print(\"WARNING: INPUT LENGTH INCORRECT 1\")\n",
    "\n",
    "        if len(type_copy) != max_input_len:\n",
    "          print(len(type_copy))\n",
    "          print(\"WARNING: INPUT LENGTH INCORRECT 2\")\n",
    "\n",
    "        if len(app_copy) != max_input_len:\n",
    "          print(len(app_copy))\n",
    "          print(\"WARNING: INPUT LENGTH INCORRECT 3\")\n",
    "\n",
    "        if len(colour_copy) != max_input_len:\n",
    "          print(len(colour_copy))\n",
    "          print(\"WARNING: INPUT LENGTH INCORRECT 4\")\n",
    "\n",
    "        if len(dep_copy) != max_input_len:\n",
    "          print(len(dep_copy))\n",
    "          print(\"WARNING: INPUT LENGTH INCORRECT 5\")\n",
    "\n",
    "        if len(price_copy) != max_input_len:\n",
    "          print(len(price_copy))\n",
    "          print(\"WARNING: INPUT LENGTH INCORRECT 6\")\n",
    "\n",
    "        if len(y) != 1:\n",
    "          print(len(y))\n",
    "          print(\"WARNING: INPUT LENGTH INCORRECT IN Y\")\n",
    "\n",
    "        y_train.append(y)\n",
    "\n",
    "print(len(art_train))"
   ]
  },
  {
   "cell_type": "code",
   "execution_count": null,
   "metadata": {
    "colab": {
     "background_save": true
    },
    "id": "r-A-4dLHK42_"
   },
   "outputs": [],
   "source": [
    "art_t = tf.convert_to_tensor(art_train)\n",
    "type_t = tf.convert_to_tensor(type_train)\n",
    "app_t = tf.convert_to_tensor(app_train)\n",
    "colour_t = tf.convert_to_tensor(colour_train)\n",
    "dep_t = tf.convert_to_tensor(dep_train)\n",
    "price_t = tf.convert_to_tensor(price_train)\n",
    "age_t = tf.convert_to_tensor(age_train)\n",
    "zip_t = tf.convert_to_tensor(zip_train)\n",
    "\n",
    "y_t = tf.convert_to_tensor(y_train)"
   ]
  },
  {
   "cell_type": "markdown",
   "metadata": {
    "id": "lY04JqE80an-"
   },
   "source": [
    "# Removing NaN values from age column and replacing with mode"
   ]
  },
  {
   "cell_type": "code",
   "execution_count": null,
   "metadata": {
    "colab": {
     "background_save": true
    },
    "id": "vJ5a-ImzT1WD"
   },
   "outputs": [],
   "source": [
    "mode = stats.mode(age_t)\n",
    "\n",
    "age_t = np.nan_to_num(age_t, nan=mode[0][0][0])"
   ]
  },
  {
   "cell_type": "markdown",
   "metadata": {
    "id": "WdcjBl9P0an_"
   },
   "source": [
    "# Messing around with hyperparameter tuning\n",
    "I worked a little bit with keras-tuner to help create an optimized neural network structure, but I simply didn't have the time or computing power for this to be very helpful.  I still think it's interesting, so I've included a commented version of what I did here."
   ]
  },
  {
   "cell_type": "code",
   "execution_count": null,
   "metadata": {
    "colab": {
     "background_save": true
    },
    "id": "64Z_f1ZkldY2"
   },
   "outputs": [],
   "source": [
    "# tuner = kt.Hyperband(\n",
    "#     hypermodel = build_model,\n",
    "#     objective = \"loss\",\n",
    "#     max_epochs=100\n",
    "# )\n",
    "\n",
    "# tuner.search(x_t, y_t, epochs=20, batch_size=64, steps_per_epoch=1000)\n",
    "#best_model = tuner.get_best_models()[0]\n",
    "\n",
    "# model.compile(loss='mse', optimizer='adam', \n",
    "#               metrics=[\"sparse_categorical_accuracy\", \"sparse_top_k_categorical_accuracy\"])"
   ]
  },
  {
   "cell_type": "markdown",
   "metadata": {
    "id": "20f5f7Fr0an_"
   },
   "source": [
    "# Fitting the transformer-based model"
   ]
  },
  {
   "cell_type": "code",
   "execution_count": null,
   "metadata": {
    "colab": {
     "background_save": true
    },
    "id": "fqHWWdql0DkA"
   },
   "outputs": [],
   "source": [
    "mcp_save = ModelCheckpoint('drive/MyDrive/model_more_inputs.hdf5', save_best_only=True, monitor='val_sparse_categorical_accuracy', mode='max')\n",
    "filename='drive/MyDrive/log_model_more_inputs.csv'\n",
    "history_logger=tf.keras.callbacks.CSVLogger(filename, separator=\",\", append=True)\n",
    "\n",
    "history = model.fit([art_t, type_t, app_t, colour_t, dep_t, price_t, age_t, zip_t], y_t, epochs=100, \n",
    "                    batch_size=4096, steps_per_epoch = 100, verbose=0,\n",
    "                    callbacks=[mcp_save, history_logger], \n",
    "                    validation_split=.05, shuffle=True)"
   ]
  },
  {
   "cell_type": "code",
   "execution_count": null,
   "metadata": {
    "colab": {
     "background_save": true
    },
    "id": "Kw7wdpd0Fnsc",
    "outputId": "d758532e-5e9c-43f0-b928-75874b123de0"
   },
   "outputs": [
    {
     "data": {
      "image/png": "[encoded data removed]",
      "text/plain": [
       "<Figure size 360x360 with 1 Axes>"
      ]
     },
     "metadata": {},
     "output_type": "display_data"
    },
    {
     "data": {
      "image/png": "[encoded data removed]",
      "text/plain": [
       "<Figure size 360x360 with 1 Axes>"
      ]
     },
     "metadata": {},
     "output_type": "display_data"
    }
   ],
   "source": [
    "plot_history(history, path=\"drive/MyDrive/graphs\", single_graphs=True)\n",
    "plt.close()"
   ]
  },
  {
   "cell_type": "markdown",
   "metadata": {
    "id": "pdIkOsAb0aoA"
   },
   "source": [
    "# Making predictions for each customer"
   ]
  },
  {
   "cell_type": "code",
   "execution_count": null,
   "metadata": {
    "colab": {
     "background_save": true
    },
    "id": "arfOyrisJdn4"
   },
   "outputs": [],
   "source": [
    "ys = []\n",
    "ids = []\n",
    "ps = []\n",
    "\n",
    "id_encoder = encoders[\"article_id\"]\n",
    "cust_encoder = encoders[\"customer_id\"]\n",
    "customer_id = []\n",
    "prediction = []\n",
    "\n",
    "art_train = []\n",
    "type_train = []\n",
    "app_train = []\n",
    "colour_train = []\n",
    "dep_train = []\n",
    "price_train = []\n",
    "\n",
    "age_train = []\n",
    "zip_train = []\n",
    "\n",
    "y_train = []\n",
    "custs = []\n",
    "\n",
    "df = pd.DataFrame()\n",
    "    \n",
    "count = 0\n",
    "rand_list = np.random.randint(low=0, high=customer_id_dim, size=1)\n",
    "rand_articles = range(article_id_dim)\n",
    "articles_list = []\n",
    "customers = []  \n",
    "\n",
    "for cust_num in range(1371980):\n",
    "\n",
    "    count += 1\n",
    "        \n",
    "    # if count % 1000 == 0:\n",
    "    #     print(\"Count is: \", cust_num)\n",
    "\n",
    "    if (cust_num in articles_lists.index) and (len(articles_lists.loc[cust_num]) != 0):\n",
    "      art_set = articles_lists.loc[cust_num]\n",
    "      type_set = type_lists.loc[cust_num]\n",
    "      app_set = appearance_lists.loc[cust_num]\n",
    "      colour_set = colour_lists.loc[cust_num]\n",
    "      dep_set = department_lists.loc[cust_num]\n",
    "      price_set = price_lists.loc[cust_num]\n",
    "      age = age_dict[cust_num]\n",
    "      zip = zip_dict[cust_num]\n",
    "\n",
    "      if len(set([len(art_set), len(type_set), len(app_set), len(colour_set), len(dep_set)])) != 1:\n",
    "        print(cust_num)\n",
    "\n",
    "    else:\n",
    "      art_set = [article_id_dim]*max_input_len\n",
    "      type_set = [product_type_dim]*max_input_len\n",
    "      app_set = [appearance_dim]*max_input_len\n",
    "      colour_set = [colour_dim]*max_input_len\n",
    "      dep_set = [department_dim]*max_input_len\n",
    "      price_set = [0]*max_input_len\n",
    "      age = age_dict[cust_num]\n",
    "      zip = zip_dict[cust_num]\n",
    "\n",
    "    art_copy = art_set.copy()\n",
    "    type_copy = type_set.copy()\n",
    "    app_copy = app_set.copy()\n",
    "    colour_copy = colour_set.copy()\n",
    "    dep_copy = dep_set.copy()\n",
    "    price_copy = price_set.copy()\n",
    "\n",
    "\n",
    "    if len(art_copy) < max_input_len:\n",
    "      art_copy = [article_id_dim]*(max_input_len - len(art_copy)) + list(art_copy)\n",
    "      type_copy = [product_type_dim]*(max_input_len - len(type_copy)) + list(type_copy)\n",
    "      app_copy = [appearance_dim]*(max_input_len - len(app_copy)) + list(app_copy)\n",
    "      colour_copy = [colour_dim]*(max_input_len - len(colour_copy)) + list(colour_copy)\n",
    "      dep_copy = [department_dim]*(max_input_len - len(dep_copy)) + list(dep_copy)\n",
    "      price_copy = [0]*(max_input_len - len(price_copy)) + list(price_copy)\n",
    "    elif len(art_copy) > max_input_len:\n",
    "      idxs = random.sample(range(len(art_copy)), max_input_len)\n",
    "      art_copy = list(map(art_copy.__getitem__, idxs))\n",
    "      type_copy = list(map(type_copy.__getitem__, idxs))\n",
    "      app_copy = list(map(app_copy.__getitem__, idxs))\n",
    "      colour_copy = list(map(colour_copy.__getitem__, idxs))\n",
    "      dep_copy = list(map(dep_copy.__getitem__, idxs))\n",
    "      price_copy = list(map(price_copy.__getitem__, idxs))\n",
    "\n",
    "\n",
    "    art_train.append(art_copy)\n",
    "    type_train.append(type_copy)\n",
    "    app_train.append(app_copy)\n",
    "    colour_train.append(colour_copy)\n",
    "    dep_train.append(dep_copy)\n",
    "    price_train.append(price_copy)\n",
    "\n",
    "    age_train.append([age])\n",
    "    zip_train.append([zip])"
   ]
  },
  {
   "cell_type": "code",
   "execution_count": 34,
   "metadata": {
    "colab": {
     "base_uri": "https://localhost:8080/"
    },
    "id": "YaMnOUGFaJ8E",
    "outputId": "5c3edd0f-c84e-495d-829f-c67fb0d1cc4d"
   },
   "outputs": [
    {
     "name": "stdout",
     "output_type": "stream",
     "text": [
      "(1371980, 16)\n",
      "0.21239519119262695\n",
      "(1371980,)\n"
     ]
    }
   ],
   "source": [
    "import time\n",
    "\n",
    "print(np.array(art_train).shape)\n",
    "\n",
    "art_subsets = np.array_split(np.array(art_train), 200)\n",
    "type_subsets = np.array_split(np.array(type_train), 200)\n",
    "app_subsets = np.array_split(np.array(app_train), 200)\n",
    "colour_subsets = np.array_split(np.array(colour_train), 200)\n",
    "dep_subsets = np.array_split(np.array(dep_train), 200)\n",
    "price_subsets = np.array_split(np.array(price_train), 200)\n",
    "age_subsets = np.array_split(np.array(age_train), 200)\n",
    "zip_subsets = np.array_split(np.array(zip_train), 200)\n",
    "\n",
    "start = time.time()\n",
    "customers_str = cust_encoder.inverse_transform(range(customer_id_dim))\n",
    "end = time.time()\n",
    "\n",
    "customer_id = []\n",
    "prediction = []\n",
    "\n",
    "print(end-start)\n",
    "\n",
    "print(customers_str.shape)\n"
   ]
  },
  {
   "cell_type": "code",
   "execution_count": 37,
   "metadata": {
    "id": "eHJB4OOkalJP"
   },
   "outputs": [],
   "source": [
    "def extend(input_string):\n",
    "  input_string = input_string.ljust(10, \"0\")\n",
    "  return input_string"
   ]
  },
  {
   "cell_type": "code",
   "execution_count": 42,
   "metadata": {
    "id": "OvV38tUPwcYz"
   },
   "outputs": [],
   "source": [
    "count = 0\n",
    "row_count = 0\n",
    "\n",
    "custs_list = []\n",
    "preds_list = []\n",
    "\n",
    "\n",
    "for i in range(200):\n",
    "  cur_art = np.squeeze(tf.convert_to_tensor([art_subsets[i]]))\n",
    "  cur_type = np.squeeze(tf.convert_to_tensor([type_subsets[i]]))\n",
    "  cur_app = np.squeeze(tf.convert_to_tensor([app_subsets[i]]))\n",
    "  cur_colour = np.squeeze(tf.convert_to_tensor([colour_subsets[i]]))\n",
    "  cur_dep = np.squeeze(tf.convert_to_tensor([dep_subsets[i]]))\n",
    "  cur_price = np.squeeze(tf.convert_to_tensor([price_subsets[i]]))\n",
    "  cur_age = np.array([age_subsets[i]]).reshape(age_subsets[i].shape)\n",
    "  cur_zip = np.array([zip_subsets[i]]).reshape(zip_subsets[i].shape)\n",
    "\n",
    "  count += 1\n",
    "\n",
    "  preds = model.predict([cur_art, cur_type, cur_app, cur_colour, cur_dep, cur_price, cur_age, cur_zip], verbose=0, batch_size=64)\n",
    "  ind = np.argpartition(preds, -12)[:,-12:]\n",
    "  ind[ind==pred_len] = most_common\n",
    "\n",
    "  for row in range(ind.shape[0]):\n",
    "    row_count += 1\n",
    "    # preds_str = \"\"\n",
    "\n",
    "    preds_str = id_encoder.inverse_transform(ind[row,:])\n",
    "    cust_str = customers_str[row_count-1]\n",
    "    preds_str = [extend(str(x)) for x in preds_str]\n",
    "    preds_str = \"\\n\".join(preds_str) \n",
    "\n",
    "    custs_list.append(cust_str)\n",
    "    preds_list.append(preds_str)"
   ]
  },
  {
   "cell_type": "code",
   "execution_count": 62,
   "metadata": {
    "colab": {
     "base_uri": "https://localhost:8080/"
    },
    "id": "q868b-r6POfV",
    "outputId": "a94f5739-a5fd-4873-e393-57046126647e"
   },
   "outputs": [
    {
     "name": "stdout",
     "output_type": "stream",
     "text": [
      "(1371980, 2)\n"
     ]
    }
   ],
   "source": [
    "df = pd.DataFrame()\n",
    "df[\"customer_id\"] = custs_list\n",
    "df[\"prediction\"] = preds_list\n",
    "\n",
    "print(df.shape)\n",
    "df.to_csv(\"drive/MyDrive/transformer_preds.csv\", index=False)"
   ]
  },
  {
   "attachments": {},
   "cell_type": "markdown",
   "metadata": {
    "id": "jSe92mWP0aoB"
   },
   "source": [
    "# Showing transformer-based model results\n",
    "\n",
    "\n",
    "Using this metric, my transformer-based model got 0.0034 MAP@12.  This isn't great.  For perspective, that places me at 2000th out of 2500 places on the current Kaggle competition leaderboard."
   ]
  },
  {
   "cell_type": "code",
   "execution_count": 3,
   "metadata": {},
   "outputs": [
    {
     "data": {
      "image/png": "[encoded data removed]",
      "text/plain": [
       "<IPython.core.display.Image object>"
      ]
     },
     "execution_count": 3,
     "metadata": {},
     "output_type": "execute_result"
    }
   ],
   "source": [
    "from IPython.display import Image\n",
    "Image(filename='Screen Shot 2022-04-24 at 11.28.16 AM.png') "
   ]
  },
  {
   "cell_type": "markdown",
   "metadata": {
    "id": "tGKkG-row7OM"
   },
   "source": [
    "# Transitioning from transformer based model to simple model.\n",
    "\n",
    "This simpler model is designed just to train embeddings.  The embeddings will (hopefully) be some indicator of how likely a customer is to buy a product.  This probability will be generated from the trained embeddings by taking the dot product of the customer and article embeddings of interest, and then transforming the number output through a trained linear transformation followed by a sigmoid function.\n",
    "\n",
    "Dropout is added to this model to help mitigate the risk of model overfitting.  I'm not entirely sure if it helped, or if it was even necessary.  The idea of embeddings overfitting seems a little bit odd to me.\n",
    "\n",
    "If, for example, I was creating word embeddings, I essentially want my embeddings to memorize data about my text corpus in a dense way.  Given that the goal seems to me to be a form of memorization, I'm not sure that overfitting is actually bad in this case.  I think the customer and article embeddings may also not have an issue with overfitting for the same reason, though I'm not positive."
   ]
  },
  {
   "cell_type": "code",
   "execution_count": 44,
   "metadata": {
    "id": "NBtkVnUX0Dfp"
   },
   "outputs": [],
   "source": [
    "embed_size = 64\n",
    "rate = .1\n",
    "\n",
    "cust_inp = Input(shape=(1, ))\n",
    "cust_emb = Embedding(customer_id_dim, embed_size,\n",
    "                         input_length=1)(cust_inp)\n",
    "\n",
    "dropout_1 = Dropout(rate, seed=1)(cust_emb)\n",
    "\n",
    "cust_reshaped = Reshape((embed_size, 1))(dropout_1)\n",
    "\n",
    "article_inp = Input(shape=(1, ))\n",
    "article_emb = Embedding(article_id_dim, embed_size,\n",
    "                  input_length=1)(article_inp)\n",
    "\n",
    "dropout_2 = Dropout(rate, seed=1)(article_emb)\n",
    "\n",
    "article_reshaped = Reshape((embed_size, 1))(article_emb)\n",
    "\n",
    "dot = Dot(axes=(1,1))([cust_reshaped, article_reshaped])\n",
    "\n",
    "dense = Dense(1, activation=\"sigmoid\")(dot)\n",
    "\n",
    "model = Model([cust_inp, article_inp], dense)"
   ]
  },
  {
   "cell_type": "code",
   "execution_count": 45,
   "metadata": {
    "colab": {
     "base_uri": "https://localhost:8080/"
    },
    "id": "aHVWvGCVSAW1",
    "outputId": "c2cc1fd7-eed1-43bf-f496-6ec5abb196bf"
   },
   "outputs": [
    {
     "name": "stdout",
     "output_type": "stream",
     "text": [
      "Model: \"model_1\"\n",
      "__________________________________________________________________________________________________\n",
      " Layer (type)                   Output Shape         Param #     Connected to                     \n",
      "==================================================================================================\n",
      " input_9 (InputLayer)           [(None, 1)]          0           []                               \n",
      "                                                                                                  \n",
      " embedding_6 (Embedding)        (None, 1, 64)        87806720    ['input_9[0][0]']                \n",
      "                                                                                                  \n",
      " input_10 (InputLayer)          [(None, 1)]          0           []                               \n",
      "                                                                                                  \n",
      " dropout_2 (Dropout)            (None, 1, 64)        0           ['embedding_6[0][0]']            \n",
      "                                                                                                  \n",
      " embedding_7 (Embedding)        (None, 1, 64)        640000      ['input_10[0][0]']               \n",
      "                                                                                                  \n",
      " reshape_1 (Reshape)            (None, 64, 1)        0           ['dropout_2[0][0]']              \n",
      "                                                                                                  \n",
      " reshape_2 (Reshape)            (None, 64, 1)        0           ['embedding_7[0][0]']            \n",
      "                                                                                                  \n",
      " dot (Dot)                      (None, 1, 1)         0           ['reshape_1[0][0]',              \n",
      "                                                                  'reshape_2[0][0]']              \n",
      "                                                                                                  \n",
      " dense_9 (Dense)                (None, 1, 1)         2           ['dot[0][0]']                    \n",
      "                                                                                                  \n",
      "==================================================================================================\n",
      "Total params: 88,446,722\n",
      "Trainable params: 88,446,722\n",
      "Non-trainable params: 0\n",
      "__________________________________________________________________________________________________\n"
     ]
    }
   ],
   "source": [
    "model.compile(loss=\"binary_crossentropy\", optimizer=\"adam\",\n",
    "              metrics=[\"binary_accuracy\",\"AUC\"])\n",
    "\n",
    "model.summary()"
   ]
  },
  {
   "cell_type": "markdown",
   "metadata": {
    "id": "a32Cp-Y10aoC"
   },
   "source": [
    "# Collecting data for training into one place\n",
    "\n",
    "The transactions dataset currently has only purchased customer-product pairs.  This means that the above model architecture will learn to always predict a positive outcome, given any customer-product pair.  Obviously we don't want this.\n",
    "\n",
    "To help fix this issue, for each customer, I've randomly chosen products that we'll pretend that customer isn't interested in.  For example, if the customer has previously purchased eight items, then I'll randomly select eight items that the customer has not purchased from the total set of items, and then pretend that we're certain that the customer is not interested in these items.  \n",
    "\n",
    "That assumption will almost certainly be wrong occasionally, but given that we're randomly choosing a very small subset of the total number of options (10,000) I suspect it is a fine working assumption."
   ]
  },
  {
   "cell_type": "code",
   "execution_count": 63,
   "metadata": {
    "id": "bHG82xUXuBHm"
   },
   "outputs": [],
   "source": [
    "sample_count = 5\n",
    "mcp_save = ModelCheckpoint('drive/MyDrive/mdl_wts.hdf5', save_best_only=True, monitor='loss', mode='min')\n",
    "    \n",
    "article_train = []\n",
    "customer_train = []\n",
    "y_train = []\n",
    "\n",
    "count = 0\n",
    "rand_list = np.random.randint(low=0, high=customer_id_dim, size=700000)\n",
    "\n",
    "for cust_num in range(customer_id_dim):\n",
    "    \n",
    "    count += 1\n",
    "    \n",
    "    # if count % 1000 == 0:\n",
    "    #     print(\"Count is: \", count)\n",
    "\n",
    "    if cust_num in articles_lists.index:\n",
    "      x = articles_lists.loc[cust_num]\n",
    "      all_articles = set(range(article_id_dim))\n",
    "      diff = tuple(all_articles - set(x))\n",
    "      len_diff = len(diff)\n",
    "      \n",
    "      for i in range(len(x)):\n",
    "          \n",
    "          if len(x) != 0:\n",
    "              article = [x[i]]\n",
    "              customer = [cust_num]\n",
    "              y = [1]\n",
    "\n",
    "              article_train.append(np.array(article))\n",
    "              customer_train.append(np.array(customer))\n",
    "              y_train.append(y)\n",
    "\n",
    "              article = [diff[int(len_diff * random.random())]]\n",
    "              customer = [cust_num]\n",
    "              y = [0]\n",
    "\n",
    "              article_train.append(np.array(article))\n",
    "              customer_train.append(np.array(customer))\n",
    "              y_train.append(y)\n",
    "\n",
    "          if len(x) == 0:\n",
    "              print(cust_num)\n",
    "\n",
    "\n",
    "\n",
    "article_train = np.array(article_train)\n",
    "customer_train = np.array(customer_train)\n",
    "y_train = np.array(y_train)"
   ]
  },
  {
   "cell_type": "markdown",
   "metadata": {
    "id": "t4xWPjnZ0aoD"
   },
   "source": [
    "# Fitting simple embedding model"
   ]
  },
  {
   "cell_type": "code",
   "execution_count": 64,
   "metadata": {
    "id": "m212Mn1huBB8"
   },
   "outputs": [],
   "source": [
    "history = model.fit([customer_train, article_train], y_train, batch_size=4096, epochs=20, verbose=0)"
   ]
  },
  {
   "cell_type": "code",
   "execution_count": 65,
   "metadata": {
    "colab": {
     "base_uri": "https://localhost:8080/",
     "height": 753
    },
    "id": "u7znF6ZJuLcY",
    "outputId": "35da902d-c7ac-453d-bbb4-174a719e0394"
   },
   "outputs": [
    {
     "data": {
      "image/png": "[encoded data removed]",
      "text/plain": [
       "<Figure size 360x360 with 1 Axes>"
      ]
     },
     "metadata": {
      "needs_background": "light"
     },
     "output_type": "display_data"
    },
    {
     "data": {
      "image/png": "[encoded data removed]",
      "text/plain": [
       "<Figure size 360x360 with 1 Axes>"
      ]
     },
     "metadata": {
      "needs_background": "light"
     },
     "output_type": "display_data"
    }
   ],
   "source": [
    "plot_history(history, path=\"drive/MyDrive/graphs_emb\", single_graphs=True)\n",
    "plt.close()"
   ]
  },
  {
   "cell_type": "markdown",
   "metadata": {
    "id": "HaGo-rZb0aoE"
   },
   "source": [
    "# Converting embeddings to product predictions\n",
    "\n",
    "My strategy for converting my trained article embeddings and customer embeddings into predictions is to dot product each customer and article pair, and then transform that dot product using the fitted sigmoid function weights used as the final layer of the simple model.  \n",
    "\n",
    "Then, I'll drop any article_ids that have previously been purchased by that customer, and then I'll select the top n most likely values (see n_values = 60).\n",
    "\n",
    "Finally, out of those 60 values, I'll group by the department name of each product and select the 12 most likely values (but only one from each department.  I'm forcing my model to choose from multiple store departments so that I maximize the variance of my predictions.  I'm trying to avoid having all twelve of my predictions be just different colors of one product (t-shirts, for instance)."
   ]
  },
  {
   "cell_type": "code",
   "execution_count": 66,
   "metadata": {
    "colab": {
     "base_uri": "https://localhost:8080/"
    },
    "id": "0IvA0t1p9dPr",
    "outputId": "8ebc6208-f614-46f7-c65e-768c72ef21ac"
   },
   "outputs": [
    {
     "name": "stdout",
     "output_type": "stream",
     "text": [
      "(1371980, 64)\n",
      "(10000, 64)\n"
     ]
    }
   ],
   "source": [
    "cust_embeddings = model.layers[1].get_weights()[0]\n",
    "art_embeddings = model.layers[4].get_weights()[0]\n",
    "print(cust_embeddings.shape)\n",
    "print(art_embeddings.shape)"
   ]
  },
  {
   "cell_type": "code",
   "execution_count": 67,
   "metadata": {
    "id": "Q7hjQuDLDNxH"
   },
   "outputs": [],
   "source": [
    "cust_subsets = np.array_split(cust_embeddings, 100)"
   ]
  },
  {
   "cell_type": "code",
   "execution_count": 87,
   "metadata": {
    "colab": {
     "base_uri": "https://localhost:8080/"
    },
    "id": "JWie7pEF9fs_",
    "outputId": "e5a4e87a-bad4-4ffa-cb16-b67f48982160"
   },
   "outputs": [
    {
     "name": "stdout",
     "output_type": "stream",
     "text": [
      "2.4522662 -1.669735\n"
     ]
    }
   ],
   "source": [
    "start = time.time()\n",
    "count = 1\n",
    "n_values = 60\n",
    "n_partitions = 12\n",
    "final_preds = []\n",
    "\n",
    "inds_list = []\n",
    "preds_list = []\n",
    "customer_list = []\n",
    "department_list = []\n",
    "\n",
    "weights = model.layers[8].get_weights()[0][0][0]\n",
    "biases = model.layers[8].get_weights()[1][0]\n",
    "\n",
    "def sig(x):\n",
    "  return np.exp(x) / (1+np.exp(x))\n",
    "\n",
    "def final_layer(x):\n",
    "  return sig(weights*x + biases)\n",
    "\n",
    "print(weights, biases)\n",
    "\n",
    "for array in cust_subsets:\n",
    "\n",
    "  indices = []\n",
    "\n",
    "  ids = [x for x in articles_lists.index if (x < array.shape[0]*count) and (x >= array.shape[0]*(count-1))]\n",
    "  \n",
    "  for i in ids:\n",
    "    indices += [[i % array.shape[0], x] for x in list(set(articles_lists.loc[i]))]\n",
    "    # if i % 10000 == 0:\n",
    "    #   print(i)\n",
    "\n",
    "  indices = np.array(indices)\n",
    "\n",
    "  pred = final_layer(np.matmul(array, art_embeddings.T))\n",
    "  pred[tuple(indices.T)] = 0\n",
    "  ind = np.argpartition(pred, -n_values)[:,-n_values:]\n",
    "  preds = np.take_along_axis(pred, ind, axis=1).flatten()\n",
    "\n",
    "  for cust_id in range((count-1)*array.shape[0], count*array.shape[0]):\n",
    "    customer_list += n_values*[cust_id]\n",
    "\n",
    "  inds_list += list(ind.flatten())\n",
    "  preds_list += list(preds)\n",
    "  department_list += list(articles.loc[ind.flatten()][\"department_no\"].values)\n",
    "\n",
    "  count += 1"
   ]
  },
  {
   "cell_type": "code",
   "execution_count": 88,
   "metadata": {
    "colab": {
     "base_uri": "https://localhost:8080/"
    },
    "id": "9N43aKAs6OB_",
    "outputId": "81b375e2-9e0a-4742-9f53-a58fd5387024"
   },
   "outputs": [
    {
     "name": "stdout",
     "output_type": "stream",
     "text": [
      "120.79200720787048\n"
     ]
    }
   ],
   "source": [
    "start = time.time()\n",
    "\n",
    "df = pd.DataFrame()\n",
    "df[\"inds\"] = inds_list\n",
    "df[\"rank\"] = preds_list\n",
    "df[\"group\"] = department_list\n",
    "df[\"id\"] = customer_list\n",
    "\n",
    "end = time.time()\n",
    "\n",
    "print(end-start)"
   ]
  },
  {
   "cell_type": "code",
   "execution_count": 89,
   "metadata": {
    "colab": {
     "base_uri": "https://localhost:8080/"
    },
    "id": "mBTGWIv8BcM8",
    "outputId": "bc77dee0-733c-43dc-b57b-6406fc6164e5"
   },
   "outputs": [
    {
     "data": {
      "text/plain": [
       "(27805419, 4)"
      ]
     },
     "execution_count": 89,
     "metadata": {},
     "output_type": "execute_result"
    }
   ],
   "source": [
    "chosen = df.sort_values(\"rank\", ascending=False).groupby([\"id\", \"group\"], sort=False, as_index=False).first()\n",
    "chosen.shape"
   ]
  },
  {
   "cell_type": "code",
   "execution_count": 90,
   "metadata": {
    "colab": {
     "base_uri": "https://localhost:8080/"
    },
    "id": "DoBTHbpyE2ai",
    "outputId": "67701ea4-5fe1-4a31-9f5c-1d0c838a49ae"
   },
   "outputs": [
    {
     "data": {
      "text/plain": [
       "(16036357, 4)"
      ]
     },
     "execution_count": 90,
     "metadata": {},
     "output_type": "execute_result"
    }
   ],
   "source": [
    "chosen_twelve = chosen.groupby([\"id\"], as_index=False).head(12)\n",
    "chosen_twelve.shape"
   ]
  },
  {
   "cell_type": "code",
   "execution_count": 91,
   "metadata": {
    "id": "rAimM_0aK_c9"
   },
   "outputs": [],
   "source": [
    "chosen_list = chosen_twelve.groupby(['id'])['inds'].apply(list)"
   ]
  },
  {
   "cell_type": "code",
   "execution_count": 92,
   "metadata": {
    "colab": {
     "base_uri": "https://localhost:8080/"
    },
    "id": "hNBGN6GPLJMH",
    "outputId": "6901c2f1-2457-44f5-993d-38f5663d0888"
   },
   "outputs": [
    {
     "data": {
      "text/plain": [
       "id\n",
       "0    [1845, 8236, 5694, 6762, 4675, 5877, 9632, 686...\n",
       "1    [3073, 5434, 7219, 1, 2211, 4770, 2931, 2346, ...\n",
       "2    [7254, 1688, 8488, 8203, 9553, 2974, 8255, 875...\n",
       "3       [5794, 5265, 503, 7412, 1794, 5472, 461, 1896]\n",
       "4    [4088, 4384, 4635, 5289, 4285, 9597, 4264, 294...\n",
       "Name: inds, dtype: object"
      ]
     },
     "execution_count": 92,
     "metadata": {},
     "output_type": "execute_result"
    }
   ],
   "source": [
    "chosen_list.head()"
   ]
  },
  {
   "cell_type": "markdown",
   "metadata": {
    "id": "hD4tAy6F0aoG"
   },
   "source": [
    "# Formatting customer_id and predictions for submission to Kaggle"
   ]
  },
  {
   "cell_type": "code",
   "execution_count": 93,
   "metadata": {
    "colab": {
     "base_uri": "https://localhost:8080/"
    },
    "id": "OCCjzxqILvqn",
    "outputId": "7c47a659-d3b0-4e8b-8072-fd8e9dfd0bfd"
   },
   "outputs": [
    {
     "name": "stdout",
     "output_type": "stream",
     "text": [
      "1371980\n"
     ]
    }
   ],
   "source": [
    "custs = []\n",
    "preds = []\n",
    "\n",
    "customers_str = cust_encoder.inverse_transform(range(customer_id_dim))\n",
    "print(len(customers_str))\n",
    "indices_set = set(chosen_list.index)\n",
    "\n",
    "for idx in range(len(customers_str)):\n",
    "  if idx in indices_set:\n",
    "    preds_str = encoders[\"article_id\"].inverse_transform(chosen_list.loc[idx])\n",
    "    cust_str = customers_str[idx]\n",
    "    preds_str = [extend(str(x)) for x in preds_str]\n",
    "    preds_str = \"\\n\".join(preds_str)\n",
    "\n",
    "    custs.append(cust_str)\n",
    "    preds.append(preds_str)\n",
    "\n",
    "  else:\n",
    "    cust_str = customers_str[idx]\n",
    "    preds.append(preds_str)\n",
    "    custs.append(cust_str)"
   ]
  },
  {
   "cell_type": "markdown",
   "metadata": {
    "id": "dwGms7rD0aoG"
   },
   "source": [
    "# Saving predictions from simple model"
   ]
  },
  {
   "cell_type": "code",
   "execution_count": 94,
   "metadata": {
    "colab": {
     "base_uri": "https://localhost:8080/"
    },
    "id": "2CYOlQ-GQkf6",
    "outputId": "b30ad1c9-319e-458d-e079-453b8e858ea2"
   },
   "outputs": [
    {
     "name": "stdout",
     "output_type": "stream",
     "text": [
      "(1371980, 2)\n"
     ]
    }
   ],
   "source": [
    "df = pd.DataFrame()\n",
    "df[\"customer_id\"] = custs\n",
    "df[\"prediction\"] = preds\n",
    "\n",
    "print(df.shape)\n",
    "\n",
    "df.to_csv(\"drive/MyDrive/preds.csv\", index=False)"
   ]
  },
  {
   "attachments": {},
   "cell_type": "markdown",
   "metadata": {
    "id": "n6S9Sm6w0aoG"
   },
   "source": [
    "# Showing simple model results\n",
    "\n",
    "Using this metric, my simple model got 0.000 MAP@12."
   ]
  },
  {
   "cell_type": "code",
   "execution_count": 4,
   "metadata": {},
   "outputs": [
    {
     "data": {
      "image/png": "[encoded data removed]",
      "text/plain": [
       "<IPython.core.display.Image object>"
      ]
     },
     "execution_count": 4,
     "metadata": {},
     "output_type": "execute_result"
    }
   ],
   "source": [
    "Image(filename='Screen Shot 2022-04-24 at 11.28.16 AM.png') "
   ]
  },
  {
   "cell_type": "markdown",
   "metadata": {
    "id": "Qs-VDsC_0aoH"
   },
   "source": [
    "# Attempting to visualize embeddings in 2D using PCA"
   ]
  },
  {
   "cell_type": "code",
   "execution_count": 95,
   "metadata": {
    "colab": {
     "base_uri": "https://localhost:8080/"
    },
    "id": "D1mwxhFsGG9K",
    "outputId": "13b6eb76-ecae-4ffe-cf40-20e8c266f2a4"
   },
   "outputs": [
    {
     "name": "stderr",
     "output_type": "stream",
     "text": [
      "/usr/local/lib/python3.7/dist-packages/ipykernel_launcher.py:3: UserWarning: Boolean Series key will be reindexed to match DataFrame index.\n",
      "  This is separate from the ipykernel package so we can avoid doing imports until\n"
     ]
    },
    {
     "name": "stdout",
     "output_type": "stream",
     "text": [
      "(486421,)\n",
      "(10000, 64)\n",
      "[0.03206388 0.02992618]\n"
     ]
    }
   ],
   "source": [
    "from sklearn.decomposition import PCA\n",
    "\n",
    "col = transactions.groupby([\"customer_id\"]).first()[transactions[\"customer_id\"].isin(set(rand_list))][\"product_type_name\"]\n",
    "print(col.shape)\n",
    "\n",
    "print(art_embeddings.shape)\n",
    "\n",
    "pca = PCA(n_components=2)\n",
    "embeddings_pca = pca.fit_transform(art_embeddings)\n",
    "\n",
    "print(pca.explained_variance_ratio_)\n",
    "\n",
    "df = pd.DataFrame(embeddings_pca, columns=[\"emb_1\", \"emb_2\"])\n",
    "df[\"product_type\"] = col"
   ]
  },
  {
   "cell_type": "code",
   "execution_count": 96,
   "metadata": {
    "colab": {
     "base_uri": "https://localhost:8080/",
     "height": 206
    },
    "id": "ZqIeqSGELp-f",
    "outputId": "5eb48a01-b6c8-4cc2-ff33-9c33c5fde134"
   },
   "outputs": [
    {
     "data": {
      "text/html": [
       "\n",
       "  <div id=\"df-25a23b45-578a-4953-8272-6ce0aff86d17\">\n",
       "    <div class=\"colab-df-container\">\n",
       "      <div>\n",
       "<style scoped>\n",
       "    .dataframe tbody tr th:only-of-type {\n",
       "        vertical-align: middle;\n",
       "    }\n",
       "\n",
       "    .dataframe tbody tr th {\n",
       "        vertical-align: top;\n",
       "    }\n",
       "\n",
       "    .dataframe thead th {\n",
       "        text-align: right;\n",
       "    }\n",
       "</style>\n",
       "<table border=\"1\" class=\"dataframe\">\n",
       "  <thead>\n",
       "    <tr style=\"text-align: right;\">\n",
       "      <th></th>\n",
       "      <th>emb_1</th>\n",
       "      <th>emb_2</th>\n",
       "      <th>product_type</th>\n",
       "    </tr>\n",
       "  </thead>\n",
       "  <tbody>\n",
       "    <tr>\n",
       "      <th>0</th>\n",
       "      <td>2.291836</td>\n",
       "      <td>-0.177902</td>\n",
       "      <td>6.0</td>\n",
       "    </tr>\n",
       "    <tr>\n",
       "      <th>1</th>\n",
       "      <td>1.889428</td>\n",
       "      <td>-0.224657</td>\n",
       "      <td>61.0</td>\n",
       "    </tr>\n",
       "    <tr>\n",
       "      <th>2</th>\n",
       "      <td>0.112877</td>\n",
       "      <td>-0.264501</td>\n",
       "      <td>5.0</td>\n",
       "    </tr>\n",
       "    <tr>\n",
       "      <th>3</th>\n",
       "      <td>-0.126311</td>\n",
       "      <td>-0.105827</td>\n",
       "      <td>10.0</td>\n",
       "    </tr>\n",
       "    <tr>\n",
       "      <th>4</th>\n",
       "      <td>1.067837</td>\n",
       "      <td>0.957382</td>\n",
       "      <td>7.0</td>\n",
       "    </tr>\n",
       "  </tbody>\n",
       "</table>\n",
       "</div>\n",
       "      <button class=\"colab-df-convert\" onclick=\"convertToInteractive('df-25a23b45-578a-4953-8272-6ce0aff86d17')\"\n",
       "              title=\"Convert this dataframe to an interactive table.\"\n",
       "              style=\"display:none;\">\n",
       "        \n",
       "  <svg xmlns=\"http://www.w3.org/2000/svg\" height=\"24px\"viewBox=\"0 0 24 24\"\n",
       "       width=\"24px\">\n",
       "    <path d=\"M0 0h24v24H0V0z\" fill=\"none\"/>\n",
       "    <path d=\"M18.56 5.44l.94 2.06.94-2.06 2.06-.94-2.06-.94-.94-2.06-.94 2.06-2.06.94zm-11 1L8.5 8.5l.94-2.06 2.06-.94-2.06-.94L8.5 2.5l-.94 2.06-2.06.94zm10 10l.94 2.06.94-2.06 2.06-.94-2.06-.94-.94-2.06-.94 2.06-2.06.94z\"/><path d=\"M17.41 7.96l-1.37-1.37c-.4-.4-.92-.59-1.43-.59-.52 0-1.04.2-1.43.59L10.3 9.45l-7.72 7.72c-.78.78-.78 2.05 0 2.83L4 21.41c.39.39.9.59 1.41.59.51 0 1.02-.2 1.41-.59l7.78-7.78 2.81-2.81c.8-.78.8-2.07 0-2.86zM5.41 20L4 18.59l7.72-7.72 1.47 1.35L5.41 20z\"/>\n",
       "  </svg>\n",
       "      </button>\n",
       "      \n",
       "  <style>\n",
       "    .colab-df-container {\n",
       "      display:flex;\n",
       "      flex-wrap:wrap;\n",
       "      gap: 12px;\n",
       "    }\n",
       "\n",
       "    .colab-df-convert {\n",
       "      background-color: #E8F0FE;\n",
       "      border: none;\n",
       "      border-radius: 50%;\n",
       "      cursor: pointer;\n",
       "      display: none;\n",
       "      fill: #1967D2;\n",
       "      height: 32px;\n",
       "      padding: 0 0 0 0;\n",
       "      width: 32px;\n",
       "    }\n",
       "\n",
       "    .colab-df-convert:hover {\n",
       "      background-color: #E2EBFA;\n",
       "      box-shadow: 0px 1px 2px rgba(60, 64, 67, 0.3), 0px 1px 3px 1px rgba(60, 64, 67, 0.15);\n",
       "      fill: #174EA6;\n",
       "    }\n",
       "\n",
       "    [theme=dark] .colab-df-convert {\n",
       "      background-color: #3B4455;\n",
       "      fill: #D2E3FC;\n",
       "    }\n",
       "\n",
       "    [theme=dark] .colab-df-convert:hover {\n",
       "      background-color: #434B5C;\n",
       "      box-shadow: 0px 1px 3px 1px rgba(0, 0, 0, 0.15);\n",
       "      filter: drop-shadow(0px 1px 2px rgba(0, 0, 0, 0.3));\n",
       "      fill: #FFFFFF;\n",
       "    }\n",
       "  </style>\n",
       "\n",
       "      <script>\n",
       "        const buttonEl =\n",
       "          document.querySelector('#df-25a23b45-578a-4953-8272-6ce0aff86d17 button.colab-df-convert');\n",
       "        buttonEl.style.display =\n",
       "          google.colab.kernel.accessAllowed ? 'block' : 'none';\n",
       "\n",
       "        async function convertToInteractive(key) {\n",
       "          const element = document.querySelector('#df-25a23b45-578a-4953-8272-6ce0aff86d17');\n",
       "          const dataTable =\n",
       "            await google.colab.kernel.invokeFunction('convertToInteractive',\n",
       "                                                     [key], {});\n",
       "          if (!dataTable) return;\n",
       "\n",
       "          const docLinkHtml = 'Like what you see? Visit the ' +\n",
       "            '<a target=\"_blank\" href=https://colab.research.google.com/notebooks/data_table.ipynb>data table notebook</a>'\n",
       "            + ' to learn more about interactive tables.';\n",
       "          element.innerHTML = '';\n",
       "          dataTable['output_type'] = 'display_data';\n",
       "          await google.colab.output.renderOutput(dataTable, element);\n",
       "          const docLink = document.createElement('div');\n",
       "          docLink.innerHTML = docLinkHtml;\n",
       "          element.appendChild(docLink);\n",
       "        }\n",
       "      </script>\n",
       "    </div>\n",
       "  </div>\n",
       "  "
      ],
      "text/plain": [
       "      emb_1     emb_2  product_type\n",
       "0  2.291836 -0.177902           6.0\n",
       "1  1.889428 -0.224657          61.0\n",
       "2  0.112877 -0.264501           5.0\n",
       "3 -0.126311 -0.105827          10.0\n",
       "4  1.067837  0.957382           7.0"
      ]
     },
     "execution_count": 96,
     "metadata": {},
     "output_type": "execute_result"
    }
   ],
   "source": [
    "df.head()"
   ]
  },
  {
   "cell_type": "markdown",
   "metadata": {
    "id": "-MCxojGA0aoH"
   },
   "source": [
    "### As can be seen from the plot below, no clear patterns emerge when compressing 64 dimensions down into 2.  This is unsurprising, but also a little dissappointing.  If I create 2 dimensional embeddings, a few simple patterns emerge, but given that this is a completely unrealisting embedding dimension I haven't included that plot."
   ]
  },
  {
   "cell_type": "code",
   "execution_count": 97,
   "metadata": {
    "colab": {
     "base_uri": "https://localhost:8080/",
     "height": 274
    },
    "id": "Ujuh-NRtLu_H",
    "outputId": "3b9b09f7-8361-46a4-e4df-9713094822c8"
   },
   "outputs": [
    {
     "data": {
      "text/plain": [
       "<matplotlib.axes._subplots.AxesSubplot at 0x7fbaed3cf890>"
      ]
     },
     "execution_count": 97,
     "metadata": {},
     "output_type": "execute_result"
    },
    {
     "data": {
      "image/png": "[encoded data removed]",
      "text/plain": [
       "<Figure size 432x288 with 2 Axes>"
      ]
     },
     "metadata": {
      "needs_background": "light"
     },
     "output_type": "display_data"
    }
   ],
   "source": [
    "sample = df.sample(n=10000)\n",
    "\n",
    "sample.plot.scatter(x='emb_1',\n",
    "                y='emb_2',\n",
    "                c='product_type',\n",
    "                colormap=\"Accent_r\")"
   ]
  }
 ],
 "metadata": {
  "accelerator": "GPU",
  "authors": [
   {
    "name": "Aaron Davis"
   }
  ],
  "colab": {
   "background_execution": "on",
   "collapsed_sections": [],
   "machine_shape": "hm",
   "name": "STAT5010Project.ipynb",
   "provenance": []
  },
  "kernelspec": {
   "display_name": "Python 3 (ipykernel)",
   "language": "python",
   "name": "python3"
  },
  "language_info": {
   "codemirror_mode": {
    "name": "ipython",
    "version": 3
   },
   "file_extension": ".py",
   "mimetype": "text/x-python",
   "name": "python",
   "nbconvert_exporter": "python",
   "pygments_lexer": "ipython3",
   "version": "3.9.7"
  },
  "title": "STAT 5010 Project - Fashion Recommendations using Neural Networks"
 },
 "nbformat": 4,
 "nbformat_minor": 1
}
